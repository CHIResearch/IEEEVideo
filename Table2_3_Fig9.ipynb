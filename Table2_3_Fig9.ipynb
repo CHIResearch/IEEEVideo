{
 "cells": [
  {
   "cell_type": "code",
   "execution_count": 1,
   "metadata": {},
   "outputs": [],
   "source": [
    "import pandas as pd\n",
    "import numpy as np\n",
    "import matplotlib.pyplot as plt\n",
    "import seaborn as sns\n",
    "from pylab import rcParams\n",
    "rcParams['figure.figsize'] = 25, 10\n",
    "params = {'xtick.labelsize':'x-large',\n",
    "         'ytick.labelsize':'x-large'}\n",
    "from prettytable import PrettyTable\n",
    "rcParams.update(params)\n",
    "import matplotlib.pyplot as plt\n",
    "from matplotlib import rc\n",
    "def extractDate(videoDate):\n",
    "    try:\n",
    "        dataStr = videoDate.split('720p_')[1].split('-UTC')[0].split('.')[0]\n",
    "        return dataStr.split('-')[0] + '-' + dataStr.split('-')[1] + '-' + dataStr.split('-')[2]\n",
    "    except:\n",
    "        dataStr = videoDate.split('stream_')[1].split('-UTC')[0].split('.')[0]\n",
    "        return dataStr.split('-')[0] + '-' + dataStr.split('-')[1] + '-' + dataStr.split('-')[2]\n",
    "def time_sec(x):\n",
    "    try:        \n",
    "        x = str(x)\n",
    "        minute = int(x.split('.')[0])*60\n",
    "        sec = int(x.split('.')[1])\n",
    "        time = minute+sec\n",
    "        return time\n",
    "        \n",
    "    except:\n",
    "        pass"
   ]
  },
  {
   "cell_type": "code",
   "execution_count": 2,
   "metadata": {},
   "outputs": [],
   "source": [
    "data_k = pd.read_excel('video_tags_final.xlsx', sheet_name='KR-video_procedures')\n",
    "data_m = pd.read_excel('video_tags_final.xlsx')\n",
    "\n",
    "gestationList = ['27+1','36+6','39+2','39+4','36+0','40+0','35+2','29+4','26+0','36+6']"
   ]
  },
  {
   "cell_type": "code",
   "execution_count": 3,
   "metadata": {},
   "outputs": [],
   "source": [
    "data_k.rename(columns = {'Procedure or manipulation (Name)':'Procedure'}, inplace = True)"
   ]
  },
  {
   "cell_type": "code",
   "execution_count": 4,
   "metadata": {},
   "outputs": [],
   "source": [
    "data_k['from_sec'] = data_k['From (min.sec)'].apply(time_sec)\n",
    "data_m['from_sec'] = data_m['From (min.sec)'].apply(time_sec)"
   ]
  },
  {
   "cell_type": "code",
   "execution_count": 5,
   "metadata": {},
   "outputs": [],
   "source": [
    "data_k['to_sec'] = data_k['To (min.sec)'].apply(time_sec)\n",
    "data_m['to_sec'] = data_m['To (min.sec)'].apply(time_sec)"
   ]
  },
  {
   "cell_type": "code",
   "execution_count": 6,
   "metadata": {},
   "outputs": [],
   "source": [
    "data_k['sec'] = data_k['to_sec'] - data_k['from_sec']\n",
    "data_m['sec'] = data_m['to_sec'] - data_m['from_sec']"
   ]
  },
  {
   "cell_type": "code",
   "execution_count": 11,
   "metadata": {},
   "outputs": [
    {
     "name": "stderr",
     "output_type": "stream",
     "text": [
      "/usr/local/lib/python3.7/dist-packages/ipykernel_launcher.py:1: FutureWarning: The pandas.np module is deprecated and will be removed from pandas in a future version. Import numpy directly instead\n",
      "  \"\"\"Entry point for launching an IPython kernel.\n",
      "/usr/local/lib/python3.7/dist-packages/ipykernel_launcher.py:2: FutureWarning: The pandas.np module is deprecated and will be removed from pandas in a future version. Import numpy directly instead\n",
      "  \n"
     ]
    }
   ],
   "source": [
    "data_m['group']=pd.np.nan\n",
    "data_k['group']=pd.np.nan"
   ]
  },
  {
   "cell_type": "code",
   "execution_count": 12,
   "metadata": {},
   "outputs": [],
   "source": [
    "for row in range(len(data_k)):\n",
    "    if (float(data_k['sec'].iloc[row]) < 50.0):\n",
    "        data_k['group'].iloc[row]='<50'\n",
    "    elif((float(data_k['sec'].iloc[row]) >= 50.0) and float(data_k['sec'].iloc[row]) < 100.0):\n",
    "        data_k['group'].iloc[row]='50-100'\n",
    "    elif((float(data_k['sec'].iloc[row]) >= 100.0)):\n",
    "        data_k['group'].iloc[row]='>=100'                       "
   ]
  },
  {
   "cell_type": "code",
   "execution_count": 13,
   "metadata": {},
   "outputs": [],
   "source": [
    "for row in range(len(data_m)):\n",
    "    if (float(data_m['sec'].iloc[row]) < 50.0):\n",
    "        data_m['group'].iloc[row]='<50'\n",
    "    elif((float(data_m['sec'].iloc[row]) >= 50.0) and float(data_m['sec'].iloc[row]) < 100.0):\n",
    "        data_m['group'].iloc[row]='50-100'\n",
    "    elif((float(data_m['sec'].iloc[row]) >= 100.0)):\n",
    "        data_m['group'].iloc[row]='>=100'                          \n",
    "          "
   ]
  },
  {
   "cell_type": "code",
   "execution_count": 14,
   "metadata": {},
   "outputs": [],
   "source": [
    "full_data = pd.concat([data_k,data_m])\n",
    "full_data['date'] = full_data.apply(lambda x: extractDate(x['Video (Title)']), axis=1)      "
   ]
  },
  {
   "cell_type": "code",
   "execution_count": null,
   "metadata": {},
   "outputs": [],
   "source": []
  },
  {
   "cell_type": "code",
   "execution_count": 59,
   "metadata": {},
   "outputs": [
    {
     "data": {
      "image/png": "[encoded data removed]",
      "text/plain": [
       "<Figure size 1800x720 with 1 Axes>"
      ]
     },
     "metadata": {
      "needs_background": "light"
     },
     "output_type": "display_data"
    }
   ],
   "source": [
    "labels = ['<50', '50-100', '>=100']\n",
    "patting_list = []\n",
    "feeding_list = []\n",
    "diaper_change_list = []  \n",
    "\n",
    "for groupName in labels:\n",
    "    umbrella = full_data[full_data.group == groupName]\n",
    "    \n",
    "    patting = umbrella[umbrella.Label == 'Patting']\n",
    "    patting_list.append(len(patting))\n",
    "    \n",
    "    feeding = umbrella[umbrella.Label == 'Feeding']\n",
    "    feeding_list.append(len(feeding))\n",
    "    \n",
    "    change = umbrella[umbrella.Label == 'Diaper_change']\n",
    "    diaper_change_list.append(len(change))\n",
    "    \n",
    "\n",
    "x = np.arange(len(labels))  # the label locations\n",
    "width = 0.25  # the width of the bars\n",
    "fig, ax = plt.subplots()\n",
    "rects1 = ax.bar(x - (width/2), patting_list, width, label='Patting')\n",
    "rects2 = ax.bar(x + width/2, diaper_change_list, width, label='Diaper Change')\n",
    "rects3 = ax.bar(x+(1.5*width), feeding_list, width, label='Feeding')\n",
    "\n",
    "# Add some text for labels, title and custom x-axis tick labels, etc.\n",
    "ax.set_ylabel('Counts')\n",
    "ax.set_xlabel('Time wise distribution of manipulations')\n",
    "ax.set_xticks(x)\n",
    "ax.set_xticklabels(labels)\n",
    "ax.legend()\n",
    "\n",
    "\n",
    "def autolabel(rects):\n",
    "    \"\"\"Attach a text label above each bar in *rects*, displaying its height.\"\"\"\n",
    "    for rect in rects:\n",
    "        height = rect.get_height()\n",
    "        ax.annotate('{}'.format(height),\n",
    "                    xy=(rect.get_x() + rect.get_width() / 2, height),\n",
    "                    xytext=(0, 3),  # 3 points vertical offset\n",
    "                    textcoords=\"offset points\",\n",
    "                    ha='center', va='bottom')\n",
    "\n",
    "\n",
    "autolabel(rects1)\n",
    "autolabel(rects2)\n",
    "autolabel(rects3)\n",
    "\n",
    "fig.tight_layout()\n",
    "\n",
    "plt.show()"
   ]
  },
  {
   "cell_type": "code",
   "execution_count": 64,
   "metadata": {},
   "outputs": [
    {
     "name": "stderr",
     "output_type": "stream",
     "text": [
      "/usr/local/lib/python3.7/dist-packages/IPython/core/interactiveshell.py:3146: DtypeWarning: Columns (1,2,3) have mixed types.Specify dtype option on import or set low_memory=False.\n",
      "  interactivity=interactivity, compiler=compiler, result=result)\n"
     ]
    }
   ],
   "source": [
    "import os\n",
    "uhidList = full_data.UHID.unique()\n",
    "minPatting = 9999\n",
    "minDiaper = 9999\n",
    "minFeeding = 9999\n",
    "maxPatting = 0\n",
    "maxDiaper = 0\n",
    "maxFeeding = 0\n",
    "\n",
    "\n",
    "\n",
    "frames_list = pd.read_csv('frames_list.csv')\n",
    "listPatting = frames_list['Patting'].tolist()\n",
    "file_list_patting = [x for x in listPatting if str(x) != 'nan']\n",
    "listFeeding = frames_list['Feeding'].tolist()\n",
    "file_list_feeding = [x for x in listFeeding if str(x) != 'nan']\n",
    "listDiaper = frames_list['Diaper_change'].tolist()\n",
    "file_list_diaper = [x for x in listDiaper if str(x) != 'nan']\n",
    "\n",
    "l = []\n",
    "list_diaper_sec = []\n",
    "list_feeding_sec = []\n",
    "list_patting_sec = []\n",
    "\n",
    "\n",
    "feeding_count_total = 0\n",
    "feeding_frames = 0\n",
    "\n",
    "patting_count_total = 0\n",
    "patting_frames = 0\n",
    "\n",
    "change_count = 0\n",
    "change_frames = 0\n",
    "    \n",
    "counter = 0\n",
    "for uhid in uhidList:\n",
    "    counter = counter + 1\n",
    "    uhidStr = str(uhid)\n",
    "    new_df = pd.DataFrame()\n",
    "    data_baby = full_data[full_data['UHID'] == uhid]\n",
    "   \n",
    "    diaper_change_count = data_baby[data_baby.Label == 'Diaper_change']\n",
    "    matching_train_d = [s for s in file_list_diaper if uhidStr in s]\n",
    "    \n",
    "    \n",
    "    change_count = change_count + len(diaper_change_count)\n",
    "    change_frames = change_frames + len(matching_train_d)\n",
    "    \n",
    "    if(len(diaper_change_count) > 0):\n",
    "        list_diaper_sec.extend(diaper_change_count.sec)\n",
    "        if min(diaper_change_count.sec) < minDiaper:\n",
    "            minDiaper = min(diaper_change_count.sec)\n",
    "        if max(diaper_change_count.sec) > maxDiaper:\n",
    "            maxDiaper = max(diaper_change_count.sec)\n",
    "            \n",
    "    feeding_count = data_baby[data_baby.Label == 'Feeding']\n",
    "    matching_train_f = [s for s in file_list_feeding if uhidStr in s]    \n",
    "   \n",
    "    feeding_count_total = feeding_count_total + len(feeding_count)\n",
    "    feeding_frames = feeding_frames + len(matching_train_f)\n",
    "    \n",
    "    \n",
    "    if(len(feeding_count) > 0):\n",
    "        list_feeding_sec.extend(feeding_count.sec)\n",
    "        if min(feeding_count.sec) < minFeeding:\n",
    "            minFeeding = min(feeding_count.sec)\n",
    "        if max(feeding_count.sec) > maxFeeding:\n",
    "            maxFeeding = max(feeding_count.sec)\n",
    "            \n",
    "    patting_count = data_baby[data_baby.Label == 'Patting']\n",
    "    matching_train_p = [s for s in file_list_patting if uhidStr in s]\n",
    "        \n",
    "    patting_count_total = patting_count_total + len(patting_count)\n",
    "    patting_frames = patting_frames + len(matching_train_p)\n",
    "    \n",
    "    if(len(patting_count) > 0):\n",
    "        list_patting_sec.extend(patting_count.sec)\n",
    "        if min(patting_count.sec) < minPatting:\n",
    "            minPatting = min(patting_count.sec)\n",
    "        if max(patting_count.sec) > maxPatting:\n",
    "            maxPatting = max(patting_count.sec)\n",
    "        \n",
    "    new_df['sec'] = data_baby['sec'].dropna()    \n",
    "    \n",
    "    data_row = [str(counter),'Male',gestationList[counter-1],round(sum(new_df.sec) / 60),str(len(patting_count)) + ' (' + str(len(matching_train_p)) +')',str(len(feeding_count)) + ' (' + str(len(matching_train_f)) +')', str(len(diaper_change_count)) + ' (' + str(len(matching_train_d)) +')']\n",
    "    l.append(data_row)\n",
    "    \n",
    "mean_d = sum(list_diaper_sec) / len(list_diaper_sec) \n",
    "variance = sum([((x - mean_d) ** 2) for x in list_diaper_sec]) / len(list_diaper_sec) \n",
    "res_d = variance ** 0.5\n",
    "\n",
    "\n",
    "mean_f = sum(list_feeding_sec) / len(list_feeding_sec) \n",
    "variance = sum([((x - mean_f) ** 2) for x in list_feeding_sec]) / len(list_feeding_sec) \n",
    "res_f = variance ** 0.5\n",
    "\n",
    "mean_p = sum(list_patting_sec) / len(list_patting_sec) \n",
    "variance = sum([((x - mean_p) ** 2) for x in list_patting_sec]) / len(list_patting_sec) \n",
    "res_p = variance ** 0.5\n",
    "\n",
    "\n",
    "l_2 =  [['Patting',minPatting,maxPatting,str(round(mean_p,1)) + ' (' + str(round(res_p,1)) + ')'],['Diaper Change',minDiaper,maxDiaper,str(round(mean_d,1)) + ' (' + str(round(res_d,1)) + ')'],['Feeding',minFeeding,maxFeeding,str(round(mean_f,1)) + ' (' + str(round(res_f,1)) + ')']]\n"
   ]
  },
  {
   "cell_type": "code",
   "execution_count": 61,
   "metadata": {},
   "outputs": [
    {
     "name": "stdout",
     "output_type": "stream",
     "text": [
      "+-------+--------+-----------+-------------------------+---------------------+----------------------+--------------------------+\n",
      "| S.No. | Gender | Gestation | Duration(Frames/Minute) | Patting 167( 82796) | Feeding 108( 173762) | Diaper Change 63( 46698) |\n",
      "+-------+--------+-----------+-------------------------+---------------------+----------------------+--------------------------+\n",
      "|   1   |  Male  |    27+1   |           628           |      64 (33330)     |      50 (97294)      |        30 (21300)        |\n",
      "|   2   |  Male  |    36+6   |           1065          |      34 (20767)     |      21 (22686)      |        14 (13214)        |\n",
      "|   3   |  Male  |    39+2   |            99           |       1 (677)       |       1 (2206)       |         1 (1336)         |\n",
      "|   4   |  Male  |    39+4   |           623           |       6 (5286)      |       4 (3934)       |         1 (631)          |\n",
      "|   5   |  Male  |    36+0   |            10           |       3 (3273)      |       1 (1501)       |         1 (1216)         |\n",
      "|   6   |  Male  |    40+0   |           356           |      15 (7130)      |       4 (5059)       |         6 (2451)         |\n",
      "|   7   |  Male  |    35+2   |            44           |       8 (1705)      |       6 (8676)       |         1 (571)          |\n",
      "|   8   |  Male  |    29+4   |           252           |      26 (7739)      |      6 (13881)       |          0 (0)           |\n",
      "|   9   |  Male  |    26+0   |            6            |        1 (46)       |       3 (2268)       |         1 (256)          |\n",
      "|   10  |  Male  |    36+6   |            68           |       9 (2843)      |      12 (16257)      |         8 (5723)         |\n",
      "+-------+--------+-----------+-------------------------+---------------------+----------------------+--------------------------+\n"
     ]
    }
   ],
   "source": [
    "table = PrettyTable(['S.No.','Gender','Gestation','Duration(Frames/Minute)','Patting ' + str(patting_count_total) + '( ' + str(patting_frames) + ')','Feeding '+ str(feeding_count_total) + '( ' + str(feeding_frames) + ')','Diaper Change ' + str(change_count) + '( ' + str(change_frames) + ')'])\n",
    "\n",
    "for rec in l:\n",
    "    table.add_row(rec)\n",
    "\n",
    "print(table)"
   ]
  },
  {
   "cell_type": "code",
   "execution_count": 62,
   "metadata": {},
   "outputs": [
    {
     "name": "stdout",
     "output_type": "stream",
     "text": [
      "+---------------+----------------------------+----------------------------+----------------------------+\n",
      "|     Event     | Minimum Duration (seconds) | Maximum Duration (seconds) | Average Duration (seconds) |\n",
      "+---------------+----------------------------+----------------------------+----------------------------+\n",
      "|    Patting    |            4.0             |           137.0            |        33.0 (26.2)         |\n",
      "| Diaper Change |            17.0            |           136.0            |        49.3 (24.6)         |\n",
      "|    Feeding    |            25.0            |           300.0            |        108.9 (55.3)        |\n",
      "+---------------+----------------------------+----------------------------+----------------------------+\n"
     ]
    }
   ],
   "source": [
    "table = PrettyTable(['Event','Minimum Duration (seconds)','Maximum Duration (seconds)','Average Duration (seconds)'])\n",
    "\n",
    "\n",
    "\n",
    "for rec in l_2:\n",
    "    table.add_row(rec)\n",
    "\n",
    "print(table)"
   ]
  },
  {
   "cell_type": "code",
   "execution_count": null,
   "metadata": {},
   "outputs": [],
   "source": []
  },
  {
   "cell_type": "code",
   "execution_count": null,
   "metadata": {},
   "outputs": [],
   "source": []
  },
  {
   "cell_type": "code",
   "execution_count": null,
   "metadata": {},
   "outputs": [],
   "source": []
  },
  {
   "cell_type": "code",
   "execution_count": null,
   "metadata": {},
   "outputs": [],
   "source": []
  },
  {
   "cell_type": "code",
   "execution_count": null,
   "metadata": {},
   "outputs": [],
   "source": []
  },
  {
   "cell_type": "code",
   "execution_count": null,
   "metadata": {},
   "outputs": [],
   "source": []
  }
 ],
 "metadata": {
  "kernelspec": {
   "display_name": "Python 3",
   "language": "python",
   "name": "python3"
  },
  "language_info": {
   "codemirror_mode": {
    "name": "ipython",
    "version": 3
   },
   "file_extension": ".py",
   "mimetype": "text/x-python",
   "name": "python",
   "nbconvert_exporter": "python",
   "pygments_lexer": "ipython3",
   "version": "3.7.5"
  }
 },
 "nbformat": 4,
 "nbformat_minor": 2
}
